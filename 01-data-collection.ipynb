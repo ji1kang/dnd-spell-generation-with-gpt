{
 "cells": [
  {
   "cell_type": "markdown",
   "id": "dcdba42c-a8dd-4ef6-82db-670824d7468c",
   "metadata": {},
   "source": [
    "# 웹사이트 데이터 수집"
   ]
  },
  {
   "cell_type": "markdown",
   "id": "eeb19d52-08a4-4ea9-92d1-4672621de227",
   "metadata": {},
   "source": [
    "## 메인 리스트 접근"
   ]
  },
  {
   "cell_type": "code",
   "execution_count": 1,
   "id": "36514b93-e33a-4b08-80a8-ab3aa22fa294",
   "metadata": {},
   "outputs": [],
   "source": [
    "import requests\n",
    "from bs4 import BeautifulSoup\n",
    "\n",
    "url = 'https://www.dandwiki.com/wiki/5e_All_Spells'\n",
    "\n",
    "response = requests.get(url)\n",
    "\n",
    "if response.status_code == 200:\n",
    "    html = response.text\n",
    "    soup = BeautifulSoup(html, 'html.parser')\n",
    "else : \n",
    "    print(response.status_code) # 에러코드가 나지 않아야 함"
   ]
  },
  {
   "cell_type": "markdown",
   "id": "b3d48fa9-c7b8-4b6f-be89-5e2b71e6e913",
   "metadata": {},
   "source": [
    "## 총 데이터 갯수 확인"
   ]
  },
  {
   "cell_type": "code",
   "execution_count": 19,
   "id": "5082c0aa-168e-4fed-bc6f-6a4406aff266",
   "metadata": {},
   "outputs": [
    {
     "data": {
      "text/plain": [
       "3415"
      ]
     },
     "execution_count": 19,
     "metadata": {},
     "output_type": "execute_result"
    }
   ],
   "source": [
    "links = soup.select('.mw-parser-output > div > ul > li > a')\n",
    "len(links)"
   ]
  },
  {
   "cell_type": "markdown",
   "id": "d70dac73-040f-460e-afad-f7552526150c",
   "metadata": {},
   "source": [
    "## 서브 URL 방문하여 데이터 수집"
   ]
  },
  {
   "cell_type": "code",
   "execution_count": 69,
   "id": "afb5cc21-603e-45e5-8133-8ad515ef6e0a",
   "metadata": {},
   "outputs": [
    {
     "data": {
      "application/vnd.jupyter.widget-view+json": {
       "model_id": "64ff62bcef8745caa304cc445940920c",
       "version_major": 2,
       "version_minor": 0
      },
      "text/plain": [
       "  0%|          | 0/3415 [00:00<?, ?it/s]"
      ]
     },
     "metadata": {},
     "output_type": "display_data"
    }
   ],
   "source": [
    "import time\n",
    "from tqdm.notebook import tqdm\n",
    "\n",
    "data = []\n",
    "\n",
    "for link in tqdm(links):\n",
    "    suburl = f\"https://www.dandwiki.com{link['href']}\"\n",
    "    response = requests.get(suburl)\n",
    "    html = response.text\n",
    "    soup = BeautifulSoup(html, 'html.parser')\n",
    "    \n",
    "    desc = ''\n",
    "\n",
    "    for ele in soup.select('.mw-parser-output > p'):\n",
    "        if '→' in ele.get_text():\n",
    "            break\n",
    "\n",
    "        desc += ele.get_text().strip()\n",
    "    \n",
    "    record = {\n",
    "        'name': link.text, \n",
    "        'table': soup.select('.d20 > tbody > tr'), \n",
    "        'description': desc\n",
    "    }\n",
    "    \n",
    "    data.append(record)"
   ]
  },
  {
   "cell_type": "markdown",
   "id": "48486829-d70b-4a0e-a125-fdf915f92014",
   "metadata": {},
   "source": [
    "# 필요한 데이터: name, range, duration, descrption 추출"
   ]
  },
  {
   "cell_type": "code",
   "execution_count": 79,
   "id": "dedaa352-8fc0-47d9-9777-8a9fb775501a",
   "metadata": {},
   "outputs": [],
   "source": [
    "# 테이블 데이터가 오류나는 경우가 있어서 별도로 전처리\n",
    "\n",
    "import pandas as pd\n",
    "\n",
    "for i, record in enumerate(data):\n",
    "    tbody = record['table']\n",
    "    \n",
    "    try:\n",
    "        record['range'] =   tbody[2].get_text().strip()\n",
    "        record['duration'] =   tbody[-1].get_text().strip()\n",
    "    except:\n",
    "        pass\n",
    "    \n",
    "    \n",
    "    data[i] = record\n",
    "    "
   ]
  },
  {
   "cell_type": "code",
   "execution_count": 81,
   "id": "d8f9b4c5-05fd-47a7-9981-9f58183dc3d0",
   "metadata": {},
   "outputs": [],
   "source": [
    "df = pd.DataFrame(data)"
   ]
  },
  {
   "cell_type": "code",
   "execution_count": 82,
   "id": "b30b55ff-7fa3-4ba3-b265-e80b0d72e342",
   "metadata": {},
   "outputs": [],
   "source": [
    "df.drop('table', inplace=True, axis=1)"
   ]
  },
  {
   "cell_type": "code",
   "execution_count": 84,
   "id": "3c71a9c8-22bf-412b-813d-50c366383fcf",
   "metadata": {},
   "outputs": [
    {
     "data": {
      "text/html": [
       "<div>\n",
       "<style scoped>\n",
       "    .dataframe tbody tr th:only-of-type {\n",
       "        vertical-align: middle;\n",
       "    }\n",
       "\n",
       "    .dataframe tbody tr th {\n",
       "        vertical-align: top;\n",
       "    }\n",
       "\n",
       "    .dataframe thead th {\n",
       "        text-align: right;\n",
       "    }\n",
       "</style>\n",
       "<table border=\"1\" class=\"dataframe\">\n",
       "  <thead>\n",
       "    <tr style=\"text-align: right;\">\n",
       "      <th></th>\n",
       "      <th>name</th>\n",
       "      <th>description</th>\n",
       "      <th>range</th>\n",
       "      <th>duration</th>\n",
       "    </tr>\n",
       "  </thead>\n",
       "  <tbody>\n",
       "    <tr>\n",
       "      <th>0</th>\n",
       "      <td>10cc of Time Stop</td>\n",
       "      <td>As a reaction to another creature taking an ac...</td>\n",
       "      <td>Self</td>\n",
       "      <td>Instantaneous</td>\n",
       "    </tr>\n",
       "    <tr>\n",
       "      <th>1</th>\n",
       "      <td>6/8 Time Beatdown</td>\n",
       "      <td>When you cast this spell you choose a number o...</td>\n",
       "      <td>100 feet</td>\n",
       "      <td>Concentration, up to 5 minutes</td>\n",
       "    </tr>\n",
       "    <tr>\n",
       "      <th>2</th>\n",
       "      <td>617 Pages</td>\n",
       "      <td>You call upon the foundational magics that sep...</td>\n",
       "      <td>30 feet</td>\n",
       "      <td>Concentration, up to 1 hour</td>\n",
       "    </tr>\n",
       "    <tr>\n",
       "      <th>3</th>\n",
       "      <td>A Comedy of Errors</td>\n",
       "      <td>This spell requires you to spend an action eve...</td>\n",
       "      <td>150 feet</td>\n",
       "      <td>Concentration 10 minutes</td>\n",
       "    </tr>\n",
       "    <tr>\n",
       "      <th>4</th>\n",
       "      <td>A Little Help</td>\n",
       "      <td>You reach into the collective consciousness of...</td>\n",
       "      <td>Touch</td>\n",
       "      <td>1 hour</td>\n",
       "    </tr>\n",
       "    <tr>\n",
       "      <th>...</th>\n",
       "      <td>...</td>\n",
       "      <td>...</td>\n",
       "      <td>...</td>\n",
       "      <td>...</td>\n",
       "    </tr>\n",
       "    <tr>\n",
       "      <th>3410</th>\n",
       "      <td>Warden's Volley</td>\n",
       "      <td>You fire a piece of non-magical ammunition fro...</td>\n",
       "      <td>Self (40-foot-radius)</td>\n",
       "      <td>Self (40-foot-radius)</td>\n",
       "    </tr>\n",
       "    <tr>\n",
       "      <th>3411</th>\n",
       "      <td>Weakening Sludge</td>\n",
       "      <td>You throw a lump of disgusting energy to a tar...</td>\n",
       "      <td>60 feet</td>\n",
       "      <td>concentration, 1 minute</td>\n",
       "    </tr>\n",
       "    <tr>\n",
       "      <th>3412</th>\n",
       "      <td>Wumbo Super-Position</td>\n",
       "      <td>At Higher Levels. When you cast this spell usi...</td>\n",
       "      <td>Self</td>\n",
       "      <td>Instantaneous</td>\n",
       "    </tr>\n",
       "    <tr>\n",
       "      <th>3413</th>\n",
       "      <td>Manifold Garden</td>\n",
       "      <td>This spell creates a finite plane with limited...</td>\n",
       "      <td>240 feet (see text)</td>\n",
       "      <td>Instantaneous</td>\n",
       "    </tr>\n",
       "    <tr>\n",
       "      <th>3414</th>\n",
       "      <td>Summon Salesman</td>\n",
       "      <td>You call forth a salesman hailing from the Cit...</td>\n",
       "      <td>10 feet</td>\n",
       "      <td>1 hour</td>\n",
       "    </tr>\n",
       "  </tbody>\n",
       "</table>\n",
       "<p>3415 rows × 4 columns</p>\n",
       "</div>"
      ],
      "text/plain": [
       "                      name                                        description  \\\n",
       "0       10cc of Time Stop   As a reaction to another creature taking an ac...   \n",
       "1       6/8 Time Beatdown   When you cast this spell you choose a number o...   \n",
       "2               617 Pages   You call upon the foundational magics that sep...   \n",
       "3      A Comedy of Errors   This spell requires you to spend an action eve...   \n",
       "4           A Little Help   You reach into the collective consciousness of...   \n",
       "...                    ...                                                ...   \n",
       "3410      Warden's Volley   You fire a piece of non-magical ammunition fro...   \n",
       "3411     Weakening Sludge   You throw a lump of disgusting energy to a tar...   \n",
       "3412  Wumbo Super-Position  At Higher Levels. When you cast this spell usi...   \n",
       "3413      Manifold Garden   This spell creates a finite plane with limited...   \n",
       "3414      Summon Salesman   You call forth a salesman hailing from the Cit...   \n",
       "\n",
       "                      range                        duration  \n",
       "0                      Self                   Instantaneous  \n",
       "1                  100 feet  Concentration, up to 5 minutes  \n",
       "2                   30 feet     Concentration, up to 1 hour  \n",
       "3                  150 feet        Concentration 10 minutes  \n",
       "4                     Touch                          1 hour  \n",
       "...                     ...                             ...  \n",
       "3410  Self (40-foot-radius)           Self (40-foot-radius)  \n",
       "3411                60 feet         concentration, 1 minute  \n",
       "3412                   Self                   Instantaneous  \n",
       "3413    240 feet (see text)                   Instantaneous  \n",
       "3414                10 feet                          1 hour  \n",
       "\n",
       "[3415 rows x 4 columns]"
      ]
     },
     "execution_count": 84,
     "metadata": {},
     "output_type": "execute_result"
    }
   ],
   "source": [
    "df"
   ]
  },
  {
   "cell_type": "markdown",
   "id": "8e61db3b-a3af-4383-a825-4e3bcc38a56e",
   "metadata": {},
   "source": [
    "# 저장"
   ]
  },
  {
   "cell_type": "code",
   "execution_count": 85,
   "id": "1c41c469-fabe-455e-8914-756a90b55fdb",
   "metadata": {},
   "outputs": [],
   "source": [
    "df.to_csv('dataset/custom-spells.csv')"
   ]
  },
  {
   "cell_type": "code",
   "execution_count": null,
   "id": "90b6a12b-4512-4e63-af24-bb19e90b3e95",
   "metadata": {},
   "outputs": [],
   "source": []
  }
 ],
 "metadata": {
  "kernelspec": {
   "display_name": "jiwon_py37",
   "language": "python",
   "name": "jiwon_py37"
  },
  "language_info": {
   "codemirror_mode": {
    "name": "ipython",
    "version": 3
   },
   "file_extension": ".py",
   "mimetype": "text/x-python",
   "name": "python",
   "nbconvert_exporter": "python",
   "pygments_lexer": "ipython3",
   "version": "3.7.12"
  }
 },
 "nbformat": 4,
 "nbformat_minor": 5
}
